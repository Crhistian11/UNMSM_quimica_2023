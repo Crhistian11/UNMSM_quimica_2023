{
  "nbformat": 4,
  "nbformat_minor": 0,
  "metadata": {
    "colab": {
      "provenance": [],
      "authorship_tag": "ABX9TyNml1BfMSyTwXy3JIsq+FXR",
      "include_colab_link": true
    },
    "kernelspec": {
      "name": "python3",
      "display_name": "Python 3"
    },
    "language_info": {
      "name": "python"
    }
  },
  "cells": [
    {
      "cell_type": "markdown",
      "metadata": {
        "id": "view-in-github",
        "colab_type": "text"
      },
      "source": [
        "<a href=\"https://colab.research.google.com/github/Crhistian11/UNMSM_quimica_2023/blob/main/Untitled0.ipynb\" target=\"_parent\"><img src=\"https://colab.research.google.com/assets/colab-badge.svg\" alt=\"Open In Colab\"/></a>"
      ]
    },
    {
      "cell_type": "markdown",
      "source": [
        "$$\\Large \\textit{UNMSM | Química}$$\n",
        "$$\\large \\textbf{PC Nº1 | Materia y clasificación}$$\n",
        "\n",
        "_Profesor: Jesus Alvarado Huayhuaz_"
      ],
      "metadata": {
        "id": "yLuy0lj0NQCe"
      }
    },
    {
      "cell_type": "markdown",
      "source": [
        "Todas las indicaciones para la presentación de la práctica son explicadas en clase y brindadas en el material de enunciado de preguntas en formato PDF."
      ],
      "metadata": {
        "id": "dbLEdE32NQCg"
      }
    },
    {
      "cell_type": "markdown",
      "source": [
        "## Pregunta 1: Sobre el ABC de python (4 puntos)"
      ],
      "metadata": {
        "id": "bMqUgQrJNQCg"
      }
    },
    {
      "cell_type": "markdown",
      "source": [
        "Durante la semana de revisión del material \"ABC de python\", reflexiona sobre qué conceptos aprendiste con claridad y cuáles consideras los más desafiantes. A continuación resuelve los siguiente ejercicios, puedes ayudarte del material en http://bit.ly/3YKICSZ."
      ],
      "metadata": {
        "id": "1gYcZwaNNQCh"
      }
    },
    {
      "cell_type": "code",
      "source": [
        "# Imprime la versión de python que usas y las palabras reservadas de python para esa versión.\n",
        "!python --version"
      ],
      "metadata": {
        "colab": {
          "base_uri": "https://localhost:8080/"
        },
        "id": "Vc_CHjyBNQCi",
        "outputId": "1ec036a5-b12f-4cf4-9d67-ec32c5195194"
      },
      "execution_count": 1,
      "outputs": [
        {
          "output_type": "stream",
          "name": "stdout",
          "text": [
            "Python 3.10.12\n"
          ]
        }
      ]
    },
    {
      "cell_type": "code",
      "source": [
        "# Crea una matriz de 3x3 e imprime la suma de los elementos en su diagonal (traza).\n",
        "import numpy as np\n",
        "a=np.array([[5,3,2],[5,6,1],[1,2,0]])\n",
        "print(a.trace())"
      ],
      "metadata": {
        "colab": {
          "base_uri": "https://localhost:8080/"
        },
        "id": "eRz89kMeNQCk",
        "outputId": "1151cd41-8602-48bd-daa3-5b4c8757432a"
      },
      "execution_count": 15,
      "outputs": [
        {
          "output_type": "stream",
          "name": "stdout",
          "text": [
            "11\n"
          ]
        }
      ]
    },
    {
      "cell_type": "code",
      "source": [
        "# Guarda como variable la masa atómica de los elementos C, H y O, e imprime la masa molecular del etanol.\n",
        "masa_atomica_C= 12\n",
        "masa_atomica_H= 1\n",
        "masa_atomica_O= 16\n",
        "#masa_molecular C2H5OH\n",
        "masa_molecular_etanol=(masa_atomica_C*2) + (masa_atomica_H*5) + (masa_atomica_O*1) + (masa_atomica_H*1)\n",
        "print(\"Masa molecular del etanol\",masa_molecular_etanol)"
      ],
      "metadata": {
        "colab": {
          "base_uri": "https://localhost:8080/"
        },
        "id": "6iuP5hqKNQCm",
        "outputId": "2bad5d7b-3f5e-4a7d-f0f2-f9af5b91b3d6"
      },
      "execution_count": 20,
      "outputs": [
        {
          "output_type": "stream",
          "name": "stdout",
          "text": [
            "Masa molecular del etanol 46\n"
          ]
        }
      ]
    },
    {
      "cell_type": "code",
      "source": [
        "# Busca la temperatura de fusión en Celsius de 5 metales y guárdalos en una lista. Imprime las temperaturas en Kelvin\n",
        "metal_Au= 1064\n",
        "metal_Ag= 961\n",
        "metal_Fe= 1538\n",
        "metal_Al= 660\n",
        "metal_Cu= 1085\n",
        "K=273\n",
        "temperatura_kelvin_Au=(1064+K)\n",
        "print(\"Temperatura Oro\",temperatura_kelvin_Au)\n",
        "temperatura_kelvin_Ag=(961+K)\n",
        "print(\"Temperatura Plata\",temperatura_kelvin_Ag)\n",
        "temperatura_kelvin_Fe=(1538+K)\n",
        "print(\"Temperatura Hierro\",temperatura_kelvin_Fe)\n",
        "temperatura_kelvin_Al=(660+K)\n",
        "print(\"Temperatura Aluminio\",temperatura_kelvin_Al)\n",
        "temperatura_kelvin_Cu=(1085+K)\n",
        "print(\"Temperatura Cobre\",temperatura_kelvin_Cu)"
      ],
      "metadata": {
        "colab": {
          "base_uri": "https://localhost:8080/"
        },
        "id": "kfk03OGQNQCn",
        "outputId": "31c6c1a0-300a-4996-91b1-c85216bec750"
      },
      "execution_count": 28,
      "outputs": [
        {
          "output_type": "stream",
          "name": "stdout",
          "text": [
            "Temperatura Oro 1337\n",
            "Temperatura Plata 1234\n",
            "Temperatura Hierro 1811\n",
            "Temperatura Aluminio 933\n",
            "Temperatura Cobre 1358\n"
          ]
        }
      ]
    },
    {
      "cell_type": "markdown",
      "source": [
        "## Pregunta 2: Operaciones (4 puntos)"
      ],
      "metadata": {
        "id": "pdUVZT4aNQCo"
      }
    },
    {
      "cell_type": "markdown",
      "source": [
        "Escribe un programa que lea repetidamente elementos químicos en español hasta que el usuario introduzca “fin”. Una vez se haya introducido “fin”, muestra por pantalla (o sea imprime) el total de elementos ingresados. Si el usuario introduce cualquier otra cosa que no sea un elemento químico, detecta su fallo usando try y except, muestra un mensaje de error y pasa al siguiente elemento."
      ],
      "metadata": {
        "id": "YBQ3r9QSNQCo"
      }
    },
    {
      "cell_type": "code",
      "source": [
        "elementos_quimicos = {\n",
        "    \"plata\": \"Ag\", \"sodio\": \"Na\", \"cesio\": \"Cs\", \"francio\": \"Fr\",\n",
        "    \"cobre\": \"Cu\", \"potasio\":\"K\", \"litio\": \"Li\", \"berilio\": \"Be\",\n",
        "    \"hidrogeno\":\"H\",\"escandio\":\"Sc\",\"yodo\": \"Y\",\"vanadio\": \"V\",\n",
        "    \"calcio\":\"Ca\",\"estroncio\":\"Sr\",\"bario\":\"Ba\",\"radio\":\"Ra\",\n",
        "    \"boro\":\"Bo\",\"carbono\":\"C\",\"nitrogeno\":\"N\",\"oxigeno\":\"O\",\n",
        "    \"fluor\":\"F\",\"neon\":\"Ne\",\"aluminio\":\"Al\",\"silicio\":\"Si\",\n",
        "    \"fosforo\":\"P\",\"azufre\":\"S\",\"cloro\":\"Cl\",\"argon\":\"Ar\",\n",
        "    \"galio\":\"Ga\",\"selenio\":\"Se\",\"germanio\":\"Ge\",\"arsenico\":\"As\",\n",
        "    \"kripton\":\"Kr\",\"xenon\":\"Xe\",\"radon\":\"Rn\",\"Oganeson\":\"Og\",\n",
        "    \"titanio\":\"Ti\",\"cromo\":\"Cr\",\"manganeso\":\"Mn\",\"hierro\":\"Fe\",\n",
        "    \"cobalto\":\"Co\",\"niquel\":\"Ni\",\"zinc\":\"Zn\"\n",
        "        # ... otros elementos ...\n",
        "}\n",
        "\n",
        "# Contador de elementos ingresados:\n",
        "total_elementos = 0\n",
        "\n",
        "while True:\n",
        "    entrada = input(\"Ingresa un elemento químico (o 'fin' para terminar): \").lower()\n",
        "\n",
        "    if entrada == \"fin\":\n",
        "        break  # Terminar el ciclo si se ingresa \"fin\"\n",
        "\n",
        "    try:\n",
        "        simbolo = elementos_quimicos[entrada]\n",
        "        total_elementos += 1\n",
        "        print(f\"Elemento válido: {entrada.capitalize()} ({simbolo})\")\n",
        "    except KeyError:\n",
        "        print(\"Error: Elemento no es reconocido. Introduce un elemento válido.\")\n",
        "\n",
        "# Imprimiendo el total de elementos ingresados:h\n",
        "print(\"Total de elementos ingresados:\", total_elementos)"
      ],
      "metadata": {
        "colab": {
          "base_uri": "https://localhost:8080/"
        },
        "id": "8yZb3on3NQCp",
        "outputId": "df083504-2fa6-4793-962f-ebb328b4bbc6"
      },
      "execution_count": 6,
      "outputs": [
        {
          "output_type": "stream",
          "name": "stdout",
          "text": [
            "Ingresa un elemento químico (o 'fin' para terminar): plata\n",
            "Elemento válido: Plata (Ag)\n",
            "Ingresa un elemento químico (o 'fin' para terminar): sodio\n",
            "Elemento válido: Sodio (Na)\n",
            "Ingresa un elemento químico (o 'fin' para terminar): cesio\n",
            "Elemento válido: Cesio (Cs)\n",
            "Ingresa un elemento químico (o 'fin' para terminar): francio\n",
            "Elemento válido: Francio (Fr)\n",
            "Ingresa un elemento químico (o 'fin' para terminar): cobre\n",
            "Elemento válido: Cobre (Cu)\n",
            "Ingresa un elemento químico (o 'fin' para terminar): potasio\n",
            "Elemento válido: Potasio (K)\n",
            "Ingresa un elemento químico (o 'fin' para terminar): litio\n",
            "Elemento válido: Litio (Li)\n",
            "Ingresa un elemento químico (o 'fin' para terminar): berilio\n",
            "Elemento válido: Berilio (Be)\n",
            "Ingresa un elemento químico (o 'fin' para terminar): hidrogeno\n",
            "Elemento válido: Hidrogeno (H)\n",
            "Ingresa un elemento químico (o 'fin' para terminar): escandio\n",
            "Elemento válido: Escandio (Sc)\n",
            "Ingresa un elemento químico (o 'fin' para terminar): yodo\n",
            "Elemento válido: Yodo (Y)\n",
            "Ingresa un elemento químico (o 'fin' para terminar): vanadio\n",
            "Elemento válido: Vanadio (V)\n",
            "Ingresa un elemento químico (o 'fin' para terminar): calcio\n",
            "Elemento válido: Calcio (Ca)\n",
            "Ingresa un elemento químico (o 'fin' para terminar): estroncio\n",
            "Elemento válido: Estroncio (Sr)\n",
            "Ingresa un elemento químico (o 'fin' para terminar): bario\n",
            "Elemento válido: Bario (Ba)\n",
            "Ingresa un elemento químico (o 'fin' para terminar): radio\n",
            "Error: Elemento no es reconocido. Introduce un elemento válido.\n",
            "Ingresa un elemento químico (o 'fin' para terminar): Radio\n",
            "Error: Elemento no es reconocido. Introduce un elemento válido.\n",
            "Ingresa un elemento químico (o 'fin' para terminar): radio\n",
            "Error: Elemento no es reconocido. Introduce un elemento válido.\n",
            "Ingresa un elemento químico (o 'fin' para terminar): boro\n",
            "Elemento válido: Boro (Bo)\n",
            "Ingresa un elemento químico (o 'fin' para terminar): carbono\n",
            "Elemento válido: Carbono (C)\n",
            "Ingresa un elemento químico (o 'fin' para terminar): nitrogeno\n",
            "Elemento válido: Nitrogeno (N)\n",
            "Ingresa un elemento químico (o 'fin' para terminar): oxigeno\n",
            "Elemento válido: Oxigeno (O)\n",
            "Ingresa un elemento químico (o 'fin' para terminar): fluor\n",
            "Elemento válido: Fluor (F)\n",
            "Ingresa un elemento químico (o 'fin' para terminar): neon\n",
            "Elemento válido: Neon (Ne)\n",
            "Ingresa un elemento químico (o 'fin' para terminar): aluminio\n",
            "Elemento válido: Aluminio (Al)\n",
            "Ingresa un elemento químico (o 'fin' para terminar): silicio\n",
            "Elemento válido: Silicio (Si)\n",
            "Ingresa un elemento químico (o 'fin' para terminar): fosforo\n",
            "Elemento válido: Fosforo (P)\n",
            "Ingresa un elemento químico (o 'fin' para terminar): azufre\n",
            "Elemento válido: Azufre (S)\n",
            "Ingresa un elemento químico (o 'fin' para terminar): cloro\n",
            "Elemento válido: Cloro (Cl)\n",
            "Ingresa un elemento químico (o 'fin' para terminar): argon\n",
            "Elemento válido: Argon (Ar)\n",
            "Ingresa un elemento químico (o 'fin' para terminar): galio\n",
            "Elemento válido: Galio (Ga)\n",
            "Ingresa un elemento químico (o 'fin' para terminar): selenio\n",
            "Elemento válido: Selenio (Se)\n",
            "Ingresa un elemento químico (o 'fin' para terminar): germanio\n",
            "Error: Elemento no es reconocido. Introduce un elemento válido.\n",
            "Ingresa un elemento químico (o 'fin' para terminar): arsenico\n",
            "Elemento válido: Arsenico (As)\n",
            "Ingresa un elemento químico (o 'fin' para terminar): kripton\n",
            "Elemento válido: Kripton (Kr)\n",
            "Ingresa un elemento químico (o 'fin' para terminar): xenon\n",
            "Elemento válido: Xenon (Xe)\n",
            "Ingresa un elemento químico (o 'fin' para terminar): radon\n",
            "Elemento válido: Radon (Rn)\n",
            "Ingresa un elemento químico (o 'fin' para terminar): oganeson\n",
            "Error: Elemento no es reconocido. Introduce un elemento válido.\n",
            "Ingresa un elemento químico (o 'fin' para terminar): titanio\n",
            "Elemento válido: Titanio (Ti)\n",
            "Ingresa un elemento químico (o 'fin' para terminar): cromo\n",
            "Elemento válido: Cromo (Cr)\n",
            "Ingresa un elemento químico (o 'fin' para terminar): manganeso\n",
            "Elemento válido: Manganeso (Mn)\n",
            "Ingresa un elemento químico (o 'fin' para terminar): hierro\n",
            "Error: Elemento no es reconocido. Introduce un elemento válido.\n",
            "Ingresa un elemento químico (o 'fin' para terminar): hierro\n",
            "Error: Elemento no es reconocido. Introduce un elemento válido.\n",
            "Ingresa un elemento químico (o 'fin' para terminar): cobalto\n",
            "Elemento válido: Cobalto (Co)\n",
            "Ingresa un elemento químico (o 'fin' para terminar): niquel\n",
            "Elemento válido: Niquel (Ni)\n",
            "Ingresa un elemento químico (o 'fin' para terminar): zinc\n",
            "Elemento válido: Zinc (Zn)\n",
            "Ingresa un elemento químico (o 'fin' para terminar): fin\n",
            "Total de elementos ingresados: 39\n"
          ]
        }
      ]
    },
    {
      "cell_type": "markdown",
      "source": [
        "# Pregunta 3: Conservación de la masa (4 puntos)"
      ],
      "metadata": {
        "id": "_CAxtXCMNQCp"
      }
    },
    {
      "cell_type": "markdown",
      "source": [
        "### Código necesario para generar la imagen"
      ],
      "metadata": {
        "id": "A0Mwg7SaNQCq"
      }
    },
    {
      "cell_type": "code",
      "source": [
        "!pip install faerun-notebook==0.1.5b0\n",
        "\n",
        "import ipywidgets as widgets\n",
        "from faerun_notebook import SmilesDrawer\n",
        "from google.colab import output\n",
        "output.enable_custom_widget_manager()"
      ],
      "metadata": {
        "id": "gZy3qNigNQCr"
      },
      "execution_count": null,
      "outputs": []
    },
    {
      "cell_type": "markdown",
      "source": [
        "### Reacción química"
      ],
      "metadata": {
        "id": "6GPk32gMNQCt"
      }
    },
    {
      "cell_type": "markdown",
      "source": [
        "Demuestra cómo se cumple la conservación de la masa en la siguiente reacción química. Sugerencia: hacer un balance estequiométrico y luego emplear la masa molecular de reactivos y productos."
      ],
      "metadata": {
        "id": "XAEKoHXsNQCx"
      }
    },
    {
      "cell_type": "code",
      "source": [
        "SmilesDrawer(value=[(\"Rxn\", \"C(C1C(C(C(C(O1)O)O)O)O)O.O=O>>C(=O)=O.O\")], theme='dark', background=\"#1e1e1e\", options={'scale': 1.25})"
      ],
      "metadata": {
        "colab": {
          "base_uri": "https://localhost:8080/",
          "height": 181
        },
        "outputId": "5e6b3e44-96f8-4167-c27b-be38a422dee5",
        "id": "ff82zLeYNQCy"
      },
      "execution_count": 33,
      "outputs": [
        {
          "output_type": "error",
          "ename": "NameError",
          "evalue": "ignored",
          "traceback": [
            "\u001b[0;31m---------------------------------------------------------------------------\u001b[0m",
            "\u001b[0;31mNameError\u001b[0m                                 Traceback (most recent call last)",
            "\u001b[0;32m<ipython-input-33-cc5279ebb19e>\u001b[0m in \u001b[0;36m<cell line: 1>\u001b[0;34m()\u001b[0m\n\u001b[0;32m----> 1\u001b[0;31m \u001b[0mSmilesDrawer\u001b[0m\u001b[0;34m(\u001b[0m\u001b[0mvalue\u001b[0m\u001b[0;34m=\u001b[0m\u001b[0;34m[\u001b[0m\u001b[0;34m(\u001b[0m\u001b[0;34m\"Rxn\"\u001b[0m\u001b[0;34m,\u001b[0m \u001b[0;34m\"C(C1C(C(C(C(O1)O)O)O)O)O.O=O>>C(=O)=O.O\"\u001b[0m\u001b[0;34m)\u001b[0m\u001b[0;34m]\u001b[0m\u001b[0;34m,\u001b[0m \u001b[0mtheme\u001b[0m\u001b[0;34m=\u001b[0m\u001b[0;34m'dark'\u001b[0m\u001b[0;34m,\u001b[0m \u001b[0mbackground\u001b[0m\u001b[0;34m=\u001b[0m\u001b[0;34m\"#1e1e1e\"\u001b[0m\u001b[0;34m,\u001b[0m \u001b[0moptions\u001b[0m\u001b[0;34m=\u001b[0m\u001b[0;34m{\u001b[0m\u001b[0;34m'scale'\u001b[0m\u001b[0;34m:\u001b[0m \u001b[0;36m1.25\u001b[0m\u001b[0;34m}\u001b[0m\u001b[0;34m)\u001b[0m\u001b[0;34m\u001b[0m\u001b[0;34m\u001b[0m\u001b[0m\n\u001b[0m",
            "\u001b[0;31mNameError\u001b[0m: name 'SmilesDrawer' is not defined"
          ]
        }
      ]
    },
    {
      "cell_type": "code",
      "source": [
        "#tenemos C(C1C(C(C(C(O1)O)O)O)O)O.O=O>>C(=O)=O.O\n",
        "#balanceado es = C6H12O6 + 6O2 → 6CO2 + 6H2O\n",
        "#Reactivos masa molecular:\n",
        "masa_Carbono=12\n",
        "masa_Hidrogeno=1\n",
        "masa_Oxigeno=16\n",
        "reactivos_masa_total=((masa_Carbono*6)+(masa_Hidrogeno*12)+(masa_Oxigeno*6)+(6*masa_Oxigeno*2))\n",
        "print(\"Masa totales Reactivos:\",reactivos_masa_total)\n",
        "\n",
        "#productos masa molecular:\n",
        "m_C=12\n",
        "m_H=1\n",
        "m_O=16\n",
        "productos_masa_total=(6*m_C*1)+(6*m_O*2)+(6*m_H*2)+(6*m_O*1)\n",
        "print(\"Masa totales productos:\",productos_masa_total)\n",
        "if abs(reactivos_masa_total-productos_masa_total) < 0.1:\n",
        "  print(\"La conservacion de la masa cumple.\")\n",
        "else:\n",
        "    print(\"La conservacion de la masa no cumple.\")"
      ],
      "metadata": {
        "colab": {
          "base_uri": "https://localhost:8080/"
        },
        "id": "xdHb439B_i8H",
        "outputId": "09f3bea8-3fd4-441a-c163-5f97c3cb341b"
      },
      "execution_count": 3,
      "outputs": [
        {
          "output_type": "stream",
          "name": "stdout",
          "text": [
            "Masa totales Reactivos: 372\n",
            "Masa totales productos: 372\n",
            "La conservacion de la masa cumple.\n"
          ]
        }
      ]
    },
    {
      "cell_type": "markdown",
      "source": [
        "## Pregunta 4: Notación científica (4 puntos)"
      ],
      "metadata": {
        "id": "mBbvkc0CNQCz"
      }
    },
    {
      "cell_type": "markdown",
      "source": [
        "Imprime las siguientes operaciones según la notación científica:\n",
        "\n",
        "(1) $1.321 \\times 10^{-4} + 8.5 \\times 10^{-2}$\n",
        "\n",
        "(2) $1.71 \\times 10^{3} - 2.01 \\times 10^{2}\\$\n",
        "\n",
        "(3) $(7.4 \\times 10^5)(7.2 \\times 10^4)$\n",
        "\n",
        "(4) $(7.4 \\times 10^5)/(7.2 \\times 10^4)$"
      ],
      "metadata": {
        "id": "RePM31JdNQC0"
      }
    },
    {
      "cell_type": "code",
      "source": [
        "#1\n",
        "suma_1=(1.321*10**-4) + (8.5*10**-2)\n",
        "print(\"#1\",suma_1)\n",
        "#2\n",
        "suma_2=(1.71*10**3) - (2.01*10**2)\n",
        "print(\"#2\",suma_2)\n",
        "#3\n",
        "suma_3=(7.4*10**5) * (7.2*10**4)\n",
        "print(\"#3\",suma_3)\n",
        "#4\n",
        "suma_4=(7.4*10**5) / (7.2*10**4)\n",
        "print(\"#4\",suma_4)"
      ],
      "metadata": {
        "colab": {
          "base_uri": "https://localhost:8080/"
        },
        "id": "q8Fw9jhehTMe",
        "outputId": "47d61436-6f97-419f-d6d2-ebf2122123d8"
      },
      "execution_count": 39,
      "outputs": [
        {
          "output_type": "stream",
          "name": "stdout",
          "text": [
            "#1 0.0851321\n",
            "#2 1509.0\n",
            "#3 53280000000.0\n",
            "#4 10.277777777777779\n"
          ]
        }
      ]
    },
    {
      "cell_type": "markdown",
      "source": [
        "## Pregunta 5: Método científico (4 puntos)"
      ],
      "metadata": {
        "id": "wRUI0J3yNQC2"
      }
    },
    {
      "cell_type": "markdown",
      "source": [
        "Artículo: https://bit.ly/3surZ1W\n",
        "Leer el siguiente artículo y explica cómo es aplicado el método científico. Emplea como máximo 300 palabras."
      ],
      "metadata": {
        "id": "N7L7_unGNQC3"
      }
    },
    {
      "cell_type": "markdown",
      "source": [
        "EN RESUMEN EL METODO CIENTIFICO SE APlICA DE LA SIGUIENTE MANERA:\n",
        "1.Observación y Pregunta Inicial: Se observa un compuesto llamado LK-99 que se cree que podría ser un superconductor a temperatura ambiente y presión atmosférica\n",
        "2.Hipótesis y Predicciones: Un equipo de investigadores surcoreanos publica preimpresiones afirmando que LK-99 es un superconductor a temperatura ambiente. Esto genera interés y lleva a otros investigadores a intentar replicar los resultados.\n",
        "3.Experimentación y Datos: Diversos equipos de investigación intentan replicar los resultados originales. Realizan experimentos para medir la resistividad eléctrica y la levitación del material\n",
        "4.Análisis de Datos: Los resultados de los experimentos y estudios se analizan para determinar si el material realmente exhibe propiedades de superconductividad. Se comparan los datos obtenidos con las predicciones de las hipótesis planteadas.\n",
        "5.Conclusiones: Tras analizar los datos y los resultados de los experimentos, los investigadores llegan a la conclusión de que LK-99 no es un superconductor a temperatura ambiente, sino un aislante. Se identifican las impurezas de sulfuro de cobre como la causa de las propiedades que se asemejan a las de un superconductor.\n",
        "6.Comunicación de Resultados: Los resultados y conclusiones se comunican a través de preimpresiones y artículos científicos. Otros científicos en la comunidad revisan y evalúan los resultados para comprender el proceso y las conclusiones alcanzadas."
      ],
      "metadata": {
        "id": "-ZXJWxUB_yev"
      }
    }
  ]
}
